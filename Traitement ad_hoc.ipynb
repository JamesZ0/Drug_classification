{
 "cells": [
  {
   "cell_type": "markdown",
   "id": "7319997e",
   "metadata": {},
   "source": [
    "## Traitement ad_hoc"
   ]
  },
  {
   "cell_type": "markdown",
   "id": "38eb3f1b",
   "metadata": {},
   "source": [
    "But du notebook : Extraction depuis le json produit par la data pipeline le nom du journal qui mentionne le plus de\n",
    "médicaments différents"
   ]
  },
  {
   "cell_type": "code",
   "execution_count": 2,
   "id": "08b0d2c0",
   "metadata": {},
   "outputs": [],
   "source": [
    "import zipfile\n",
    "import pandas as pd\n",
    "import seaborn as sns\n",
    "import matplotlib.pyplot as plt\n",
    "import numpy as np\n",
    "from itertools import compress\n",
    "import json\n",
    "\n",
    "%matplotlib inline"
   ]
  },
  {
   "cell_type": "code",
   "execution_count": 89,
   "id": "0060839d",
   "metadata": {},
   "outputs": [],
   "source": [
    "l=[]\n",
    "with open('drug_classification.json') as json_file:\n",
    "    data = json.load(json_file)\n",
    "    for doc in data['Drug_classification']:\n",
    "        for d in doc['Publications']:\n",
    "            l.append([doc['Drug_name'], d['Type'], d['Source_ID']])"
   ]
  },
  {
   "cell_type": "code",
   "execution_count": 91,
   "id": "ed775a17",
   "metadata": {},
   "outputs": [],
   "source": [
    "final_df = pd.DataFrame(columns = ['Drug_name', 'Type', 'Source_ID'], data = l)"
   ]
  },
  {
   "cell_type": "markdown",
   "id": "756fa182",
   "metadata": {},
   "source": [
    "On extrait les colonnes qui nous intéressent"
   ]
  },
  {
   "cell_type": "code",
   "execution_count": 108,
   "id": "34e5e1fe",
   "metadata": {},
   "outputs": [],
   "source": [
    "dfjournal = final_df[final_df[\"Type\"] == \"Journal\"].drop(columns = \"Type\")"
   ]
  },
  {
   "cell_type": "markdown",
   "id": "cbd13178",
   "metadata": {},
   "source": [
    "On supprime les doublons"
   ]
  },
  {
   "cell_type": "code",
   "execution_count": 110,
   "id": "49a67bd5",
   "metadata": {},
   "outputs": [],
   "source": [
    "dfjournal = dfjournal.drop_duplicates() "
   ]
  },
  {
   "cell_type": "code",
   "execution_count": 111,
   "id": "9348854a",
   "metadata": {},
   "outputs": [
    {
     "data": {
      "text/html": [
       "<div>\n",
       "<style scoped>\n",
       "    .dataframe tbody tr th:only-of-type {\n",
       "        vertical-align: middle;\n",
       "    }\n",
       "\n",
       "    .dataframe tbody tr th {\n",
       "        vertical-align: top;\n",
       "    }\n",
       "\n",
       "    .dataframe thead th {\n",
       "        text-align: right;\n",
       "    }\n",
       "</style>\n",
       "<table border=\"1\" class=\"dataframe\">\n",
       "  <thead>\n",
       "    <tr style=\"text-align: right;\">\n",
       "      <th></th>\n",
       "      <th>Drug_name</th>\n",
       "      <th>Source_ID</th>\n",
       "    </tr>\n",
       "  </thead>\n",
       "  <tbody>\n",
       "    <tr>\n",
       "      <th>0</th>\n",
       "      <td>ATROPINE</td>\n",
       "      <td>THE JOURNAL OF MATERNAL-FETAL &amp; NEONATAL MEDICINE</td>\n",
       "    </tr>\n",
       "    <tr>\n",
       "      <th>2</th>\n",
       "      <td>BETAMETHASONE</td>\n",
       "      <td>THE JOURNAL OF MATERNAL-FETAL &amp; NEONATAL MEDICINE</td>\n",
       "    </tr>\n",
       "    <tr>\n",
       "      <th>3</th>\n",
       "      <td>BETAMETHASONE</td>\n",
       "      <td>JOURNAL OF BACK AND MUSCULOSKELETAL REHABILITA...</td>\n",
       "    </tr>\n",
       "    <tr>\n",
       "      <th>5</th>\n",
       "      <td>BETAMETHASONE</td>\n",
       "      <td>HÔPITAUX UNIVERSITAIRES DE GENÈVE</td>\n",
       "    </tr>\n",
       "    <tr>\n",
       "      <th>11</th>\n",
       "      <td>DIPHENHYDRAMINE</td>\n",
       "      <td>JOURNAL OF EMERGENCY NURSING</td>\n",
       "    </tr>\n",
       "    <tr>\n",
       "      <th>12</th>\n",
       "      <td>DIPHENHYDRAMINE</td>\n",
       "      <td>THE JOURNAL OF PEDIATRICS</td>\n",
       "    </tr>\n",
       "    <tr>\n",
       "      <th>18</th>\n",
       "      <td>EPINEPHRINE</td>\n",
       "      <td>THE JOURNAL OF ALLERGY AND CLINICAL IMMUNOLOGY...</td>\n",
       "    </tr>\n",
       "    <tr>\n",
       "      <th>20</th>\n",
       "      <td>EPINEPHRINE</td>\n",
       "      <td>JOURNAL OF EMERGENCY NURSING\\XC3\\X28</td>\n",
       "    </tr>\n",
       "    <tr>\n",
       "      <th>23</th>\n",
       "      <td>ETHANOL</td>\n",
       "      <td>PSYCHOPHARMACOLOGY</td>\n",
       "    </tr>\n",
       "    <tr>\n",
       "      <th>25</th>\n",
       "      <td>ISOPRENALINE</td>\n",
       "      <td>JOURNAL OF PHOTOCHEMISTRY AND PHOTOBIOLOGY. B,...</td>\n",
       "    </tr>\n",
       "    <tr>\n",
       "      <th>27</th>\n",
       "      <td>TETRACYCLINE</td>\n",
       "      <td>JOURNAL OF FOOD PROTECTION</td>\n",
       "    </tr>\n",
       "    <tr>\n",
       "      <th>28</th>\n",
       "      <td>TETRACYCLINE</td>\n",
       "      <td>AMERICAN JOURNAL OF VETERINARY RESEARCH</td>\n",
       "    </tr>\n",
       "    <tr>\n",
       "      <th>29</th>\n",
       "      <td>TETRACYCLINE</td>\n",
       "      <td>PSYCHOPHARMACOLOGY</td>\n",
       "    </tr>\n",
       "  </tbody>\n",
       "</table>\n",
       "</div>"
      ],
      "text/plain": [
       "          Drug_name                                          Source_ID\n",
       "0          ATROPINE  THE JOURNAL OF MATERNAL-FETAL & NEONATAL MEDICINE\n",
       "2     BETAMETHASONE  THE JOURNAL OF MATERNAL-FETAL & NEONATAL MEDICINE\n",
       "3     BETAMETHASONE  JOURNAL OF BACK AND MUSCULOSKELETAL REHABILITA...\n",
       "5     BETAMETHASONE                  HÔPITAUX UNIVERSITAIRES DE GENÈVE\n",
       "11  DIPHENHYDRAMINE                       JOURNAL OF EMERGENCY NURSING\n",
       "12  DIPHENHYDRAMINE                          THE JOURNAL OF PEDIATRICS\n",
       "18      EPINEPHRINE  THE JOURNAL OF ALLERGY AND CLINICAL IMMUNOLOGY...\n",
       "20      EPINEPHRINE               JOURNAL OF EMERGENCY NURSING\\XC3\\X28\n",
       "23          ETHANOL                                 PSYCHOPHARMACOLOGY\n",
       "25     ISOPRENALINE  JOURNAL OF PHOTOCHEMISTRY AND PHOTOBIOLOGY. B,...\n",
       "27     TETRACYCLINE                         JOURNAL OF FOOD PROTECTION\n",
       "28     TETRACYCLINE            AMERICAN JOURNAL OF VETERINARY RESEARCH\n",
       "29     TETRACYCLINE                                 PSYCHOPHARMACOLOGY"
      ]
     },
     "execution_count": 111,
     "metadata": {},
     "output_type": "execute_result"
    }
   ],
   "source": [
    "dfjournal"
   ]
  },
  {
   "cell_type": "markdown",
   "id": "83bdcfa3",
   "metadata": {},
   "source": [
    "On compte le nombre de fois où chaque journal apparaît pour des médicaments différents"
   ]
  },
  {
   "cell_type": "code",
   "execution_count": 112,
   "id": "a1317ed5",
   "metadata": {},
   "outputs": [
    {
     "data": {
      "text/plain": [
       "THE JOURNAL OF MATERNAL-FETAL & NEONATAL MEDICINE              2\n",
       "PSYCHOPHARMACOLOGY                                             2\n",
       "JOURNAL OF FOOD PROTECTION                                     1\n",
       "JOURNAL OF PHOTOCHEMISTRY AND PHOTOBIOLOGY. B, BIOLOGY         1\n",
       "JOURNAL OF EMERGENCY NURSING\\XC3\\X28                           1\n",
       "HÔPITAUX UNIVERSITAIRES DE GENÈVE                              1\n",
       "JOURNAL OF EMERGENCY NURSING                                   1\n",
       "THE JOURNAL OF ALLERGY AND CLINICAL IMMUNOLOGY. IN PRACTICE    1\n",
       "AMERICAN JOURNAL OF VETERINARY RESEARCH                        1\n",
       "THE JOURNAL OF PEDIATRICS                                      1\n",
       "JOURNAL OF BACK AND MUSCULOSKELETAL REHABILITATION             1\n",
       "Name: Source_ID, dtype: int64"
      ]
     },
     "execution_count": 112,
     "metadata": {},
     "output_type": "execute_result"
    }
   ],
   "source": [
    "dfjournal[\"Source_ID\"].value_counts()"
   ]
  },
  {
   "cell_type": "markdown",
   "id": "836d07f7",
   "metadata": {},
   "source": [
    "Les journaux sont donc : \"THE JOURNAL OF MATERNAL-FETAL & NEONATAL MEDICINE\" et \"PSYCHOPHARMACOLOGY\""
   ]
  }
 ],
 "metadata": {
  "kernelspec": {
   "display_name": "conda_axa_james",
   "language": "python",
   "name": "conda_axa_james"
  },
  "language_info": {
   "codemirror_mode": {
    "name": "ipython",
    "version": 3
   },
   "file_extension": ".py",
   "mimetype": "text/x-python",
   "name": "python",
   "nbconvert_exporter": "python",
   "pygments_lexer": "ipython3",
   "version": "3.8.8"
  }
 },
 "nbformat": 4,
 "nbformat_minor": 5
}
